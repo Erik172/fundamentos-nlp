{
 "cells": [
  {
   "cell_type": "code",
   "execution_count": 3,
   "metadata": {},
   "outputs": [],
   "source": [
    "import nltk\n",
    "import re"
   ]
  },
  {
   "cell_type": "code",
   "execution_count": 2,
   "metadata": {},
   "outputs": [
    {
     "name": "stderr",
     "output_type": "stream",
     "text": [
      "[nltk_data] Downloading package cess_esp to\n",
      "[nltk_data]     C:\\Users\\erik1\\AppData\\Roaming\\nltk_data...\n",
      "[nltk_data]   Unzipping corpora\\cess_esp.zip.\n"
     ]
    },
    {
     "data": {
      "text/plain": [
       "True"
      ]
     },
     "execution_count": 2,
     "metadata": {},
     "output_type": "execute_result"
    }
   ],
   "source": [
    "nltk.download('cess_esp')"
   ]
  },
  {
   "cell_type": "code",
   "execution_count": 4,
   "metadata": {},
   "outputs": [
    {
     "data": {
      "text/plain": [
       "[['El', 'grupo', 'estatal', 'Electricité_de_France', '-Fpa-', 'EDF', '-Fpt-', 'anunció', 'hoy', ',', 'jueves', ',', 'la', 'compra', 'del', '51_por_ciento', 'de', 'la', 'empresa', 'mexicana', 'Electricidad_Águila_de_Altamira', '-Fpa-', 'EAA', '-Fpt-', ',', 'creada', 'por', 'el', 'japonés', 'Mitsubishi_Corporation', 'para', 'poner_en_marcha', 'una', 'central', 'de', 'gas', 'de', '495', 'megavatios', '.'], ['Una', 'portavoz', 'de', 'EDF', 'explicó', 'a', 'EFE', 'que', 'el', 'proyecto', 'para', 'la', 'construcción', 'de', 'Altamira_2', ',', 'al', 'norte', 'de', 'Tampico', ',', 'prevé', 'la', 'utilización', 'de', 'gas', 'natural', 'como', 'combustible', 'principal', 'en', 'una', 'central', 'de', 'ciclo', 'combinado', 'que', 'debe', 'empezar', 'a', 'funcionar', 'en', 'mayo_del_2002', '.'], ...]"
      ]
     },
     "execution_count": 4,
     "metadata": {},
     "output_type": "execute_result"
    }
   ],
   "source": [
    "corpus = nltk.corpus.cess_esp.sents()\n",
    "corpus"
   ]
  },
  {
   "cell_type": "code",
   "execution_count": 5,
   "metadata": {},
   "outputs": [
    {
     "data": {
      "text/plain": [
       "6030"
      ]
     },
     "execution_count": 5,
     "metadata": {},
     "output_type": "execute_result"
    }
   ],
   "source": [
    "len(corpus)"
   ]
  },
  {
   "cell_type": "code",
   "execution_count": 6,
   "metadata": {},
   "outputs": [
    {
     "data": {
      "text/plain": [
       "192686"
      ]
     },
     "execution_count": 6,
     "metadata": {},
     "output_type": "execute_result"
    }
   ],
   "source": [
    "flatten = [w for l in corpus for w in l]\n",
    "len(flatten)"
   ]
  },
  {
   "cell_type": "code",
   "execution_count": 7,
   "metadata": {},
   "outputs": [
    {
     "data": {
      "text/plain": [
       "['El',\n",
       " 'grupo',\n",
       " 'estatal',\n",
       " 'Electricité_de_France',\n",
       " '-Fpa-',\n",
       " 'EDF',\n",
       " '-Fpt-',\n",
       " 'anunció',\n",
       " 'hoy',\n",
       " ',']"
      ]
     },
     "execution_count": 7,
     "metadata": {},
     "output_type": "execute_result"
    }
   ],
   "source": [
    "flatten[:10]"
   ]
  },
  {
   "attachments": {},
   "cell_type": "markdown",
   "metadata": {},
   "source": [
    "### Estructura de la funcion re.search()\n",
    "\n",
    "determina si el patron de busqueda p esta contenido en la cadena s\n",
    "\n",
    "_re.search(p,s)_"
   ]
  },
  {
   "cell_type": "code",
   "execution_count": 9,
   "metadata": {},
   "outputs": [
    {
     "data": {
      "text/plain": [
       "(14814, ['estatal', 'jueves', 'empresa', 'centrales', 'francesa'])"
      ]
     },
     "execution_count": 9,
     "metadata": {},
     "output_type": "execute_result"
    }
   ],
   "source": [
    "arr = [w for w in flatten if re.search('es', w)]\n",
    "len(arr), arr[:5]"
   ]
  },
  {
   "cell_type": "code",
   "execution_count": 10,
   "metadata": {},
   "outputs": [
    {
     "data": {
      "text/plain": [
       "(6995, ['jueves', 'centrales', 'millones', 'millones', 'dólares'])"
      ]
     },
     "execution_count": 10,
     "metadata": {},
     "output_type": "execute_result"
    }
   ],
   "source": [
    "arr = [w for w in flatten if re.search('es$', w)]\n",
    "len(arr), arr[:5]"
   ]
  },
  {
   "cell_type": "code",
   "execution_count": 11,
   "metadata": {},
   "outputs": [
    {
     "data": {
      "text/plain": [
       "(3900, ['estatal', 'es', 'esta', 'esta', 'eso'])"
      ]
     },
     "execution_count": 11,
     "metadata": {},
     "output_type": "execute_result"
    }
   ],
   "source": [
    "arr = [w for w in flatten if re.search('^es', w)]\n",
    "len(arr), arr[:5]"
   ]
  },
  {
   "cell_type": "code",
   "execution_count": 12,
   "metadata": {},
   "outputs": [
    {
     "data": {
      "text/plain": [
       "(8468, ['grupo', 'hoy', 'gas', 'gas', 'intervendrá'])"
      ]
     },
     "execution_count": 12,
     "metadata": {},
     "output_type": "execute_result"
    }
   ],
   "source": [
    "# rango\n",
    "arr = [w for w in flatten if re.search('^[ghi]', w)]\n",
    "len(arr), arr[:5]"
   ]
  },
  {
   "cell_type": "code",
   "execution_count": 16,
   "metadata": {},
   "outputs": [
    {
     "data": {
      "text/plain": [
       "(1767, ['norte', 'no', 'no', 'noche', 'no', 'no', 'notificación', 'no'])"
      ]
     },
     "execution_count": 16,
     "metadata": {},
     "output_type": "execute_result"
    }
   ],
   "source": [
    "# clausura\n",
    "# * -> 0 o más\n",
    "# + -> 1 o más\n",
    "\n",
    "arr = [w for w in flatten if re.search('^(no)+', w)]\n",
    "len(arr), arr[:8]"
   ]
  },
  {
   "attachments": {},
   "cell_type": "markdown",
   "metadata": {},
   "source": [
    "## Normalizacion de texto"
   ]
  },
  {
   "cell_type": "code",
   "execution_count": 17,
   "metadata": {},
   "outputs": [],
   "source": [
    "texto = \"\"\" Cuando sea el rey del mundo (imaginaba él en su cabeza) no tendré que  preocuparme por estas bobadas. \n",
    "            Era solo un niño de 7 años, pero pensaba que podría ser cualquier cosa que su imaginación le permitiera \n",
    "            visualizar en su cabeza ...\"\"\" "
   ]
  },
  {
   "cell_type": "code",
   "execution_count": 18,
   "metadata": {},
   "outputs": [
    {
     "data": {
      "text/plain": [
       "['',\n",
       " 'Cuando',\n",
       " 'sea',\n",
       " 'el',\n",
       " 'rey',\n",
       " 'del',\n",
       " 'mundo',\n",
       " '(imaginaba',\n",
       " 'él',\n",
       " 'en',\n",
       " 'su',\n",
       " 'cabeza)',\n",
       " 'no',\n",
       " 'tendré',\n",
       " 'que',\n",
       " '',\n",
       " 'preocuparme',\n",
       " 'por',\n",
       " 'estas',\n",
       " 'bobadas.',\n",
       " '\\n',\n",
       " '',\n",
       " '',\n",
       " '',\n",
       " '',\n",
       " '',\n",
       " '',\n",
       " '',\n",
       " '',\n",
       " '',\n",
       " '',\n",
       " '',\n",
       " 'Era',\n",
       " 'solo',\n",
       " 'un',\n",
       " 'niño',\n",
       " 'de',\n",
       " '7',\n",
       " 'años,',\n",
       " 'pero',\n",
       " 'pensaba',\n",
       " 'que',\n",
       " 'podría',\n",
       " 'ser',\n",
       " 'cualquier',\n",
       " 'cosa',\n",
       " 'que',\n",
       " 'su',\n",
       " 'imaginación',\n",
       " 'le',\n",
       " 'permitiera',\n",
       " '\\n',\n",
       " '',\n",
       " '',\n",
       " '',\n",
       " '',\n",
       " '',\n",
       " '',\n",
       " '',\n",
       " '',\n",
       " '',\n",
       " '',\n",
       " '',\n",
       " 'visualizar',\n",
       " 'en',\n",
       " 'su',\n",
       " 'cabeza',\n",
       " '...']"
      ]
     },
     "execution_count": 18,
     "metadata": {},
     "output_type": "execute_result"
    }
   ],
   "source": [
    "# caso 1: tokenizar por espacios vacíos\n",
    "re.split(r' ', texto)"
   ]
  },
  {
   "cell_type": "code",
   "execution_count": 19,
   "metadata": {},
   "outputs": [
    {
     "data": {
      "text/plain": [
       "['',\n",
       " 'Cuando',\n",
       " 'sea',\n",
       " 'el',\n",
       " 'rey',\n",
       " 'del',\n",
       " 'mundo',\n",
       " '(imaginaba',\n",
       " 'él',\n",
       " 'en',\n",
       " 'su',\n",
       " 'cabeza)',\n",
       " 'no',\n",
       " 'tendré',\n",
       " 'que',\n",
       " 'preocuparme',\n",
       " 'por',\n",
       " 'estas',\n",
       " 'bobadas.',\n",
       " 'Era',\n",
       " 'solo',\n",
       " 'un',\n",
       " 'niño',\n",
       " 'de',\n",
       " '7',\n",
       " 'años,',\n",
       " 'pero',\n",
       " 'pensaba',\n",
       " 'que',\n",
       " 'podría',\n",
       " 'ser',\n",
       " 'cualquier',\n",
       " 'cosa',\n",
       " 'que',\n",
       " 'su',\n",
       " 'imaginación',\n",
       " 'le',\n",
       " 'permitiera',\n",
       " 'visualizar',\n",
       " 'en',\n",
       " 'su',\n",
       " 'cabeza',\n",
       " '...']"
      ]
     },
     "execution_count": 19,
     "metadata": {},
     "output_type": "execute_result"
    }
   ],
   "source": [
    "# Caso 2: tokenizar con regex\n",
    "re.split(r'[ \\t\\n]+', texto)"
   ]
  },
  {
   "cell_type": "code",
   "execution_count": 20,
   "metadata": {},
   "outputs": [
    {
     "data": {
      "text/plain": [
       "['',\n",
       " 'Cuando',\n",
       " 'sea',\n",
       " 'el',\n",
       " 'rey',\n",
       " 'del',\n",
       " 'mundo',\n",
       " 'imaginaba',\n",
       " 'él',\n",
       " 'en',\n",
       " 'su',\n",
       " 'cabeza',\n",
       " 'no',\n",
       " 'tendré',\n",
       " 'que',\n",
       " 'preocuparme',\n",
       " 'por',\n",
       " 'estas',\n",
       " 'bobadas',\n",
       " 'Era',\n",
       " 'solo',\n",
       " 'un',\n",
       " 'niño',\n",
       " 'de',\n",
       " '7',\n",
       " 'años',\n",
       " 'pero',\n",
       " 'pensaba',\n",
       " 'que',\n",
       " 'podría',\n",
       " 'ser',\n",
       " 'cualquier',\n",
       " 'cosa',\n",
       " 'que',\n",
       " 'su',\n",
       " 'imaginación',\n",
       " 'le',\n",
       " 'permitiera',\n",
       " 'visualizar',\n",
       " 'en',\n",
       " 'su',\n",
       " 'cabeza',\n",
       " '']"
      ]
     },
     "execution_count": 20,
     "metadata": {},
     "output_type": "execute_result"
    }
   ],
   "source": [
    "# Caso 3\n",
    "re.split(r'[ \\W\\t\\n]+', texto)"
   ]
  },
  {
   "attachments": {},
   "cell_type": "markdown",
   "metadata": {},
   "source": [
    "### Tokenizacion de NLTK"
   ]
  },
  {
   "cell_type": "code",
   "execution_count": 21,
   "metadata": {},
   "outputs": [
    {
     "data": {
      "text/plain": [
       "['En', 'los', 'E', 'U', 'esa', 'postal', 'vale', '15', '50', '']"
      ]
     },
     "execution_count": 21,
     "metadata": {},
     "output_type": "execute_result"
    }
   ],
   "source": [
    "texto = 'En los E.U. esa postal vale $15.50 ...'\n",
    "re.split(r'[ \\W\\t\\n]+', texto)"
   ]
  },
  {
   "cell_type": "code",
   "execution_count": 22,
   "metadata": {},
   "outputs": [],
   "source": [
    "pattern = r'''(?x)                  # Flag para iniciar el modo verbose\n",
    "              (?:[A-Z]\\.)+          # Hace match con abreviaciones como U.S.A.\n",
    "              | \\w+(?:-\\w+)*        # Hace match con palabras que pueden tener un guión interno\n",
    "              | \\$?\\d+(?:\\.\\d+)?%?  # Hace match con dinero o porcentajes como $15.5 o 100%\n",
    "              | \\.\\.\\.              # Hace match con puntos suspensivos\n",
    "              | [][.,;\"'?():-_`]    # Hace match con signos de puntuación\n",
    "'''"
   ]
  },
  {
   "cell_type": "code",
   "execution_count": 23,
   "metadata": {},
   "outputs": [
    {
     "data": {
      "text/plain": [
       "['En', 'los', 'E.U.', 'esa', 'postal', 'vale', '$15.50', '...']"
      ]
     },
     "execution_count": 23,
     "metadata": {},
     "output_type": "execute_result"
    }
   ],
   "source": [
    "nltk.regexp_tokenize(texto, pattern)"
   ]
  }
 ],
 "metadata": {
  "kernelspec": {
   "display_name": "Python 3",
   "language": "python",
   "name": "python3"
  },
  "language_info": {
   "codemirror_mode": {
    "name": "ipython",
    "version": 3
   },
   "file_extension": ".py",
   "mimetype": "text/x-python",
   "name": "python",
   "nbconvert_exporter": "python",
   "pygments_lexer": "ipython3",
   "version": "3.11.3"
  },
  "orig_nbformat": 4
 },
 "nbformat": 4,
 "nbformat_minor": 2
}
